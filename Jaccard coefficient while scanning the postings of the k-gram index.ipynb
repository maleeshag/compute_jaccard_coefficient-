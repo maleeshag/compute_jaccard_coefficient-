{
 "cells": [
  {
   "cell_type": "code",
   "execution_count": 48,
   "id": "b82299cd",
   "metadata": {},
   "outputs": [],
   "source": [
    "def compute_jaccard_coefficient(queryset,docset):\n",
    "    commonSet=0;\n",
    "    total_union=0;\n",
    "    \n",
    "    \n",
    "    \n",
    "    query_term_set=generate_n_grams(queryset,3)\n",
    "    doc_term_set=generate_n_grams(docset,3)\n",
    "    \n",
    "    for term in query_term_set:\n",
    "        if term in doc_term_set:\n",
    "            commonSet=commonSet+1\n",
    "    \n",
    "    total_union=(len(query_term_set)+len(doc_term_set)-commonSet)\n",
    "    \n",
    "    jaccard_coefficient=commonSet/total_union\n",
    "    \n",
    "    \n",
    "    \n",
    "    return jaccard_coefficient\n",
    "    "
   ]
  },
  {
   "cell_type": "code",
   "execution_count": 49,
   "id": "3c465073",
   "metadata": {},
   "outputs": [],
   "source": [
    "def generate_n_grams(String,n):\n",
    "    String=String.lower()\n",
    "    \n",
    "    bi_grams=[]\n",
    "    \n",
    "    for i in range(len(String)-1):\n",
    "        bigram=String[i:i+n]\n",
    "        \n",
    "        if(len(bigram)<n):\n",
    "            break;\n",
    "            \n",
    "        bi_grams.append(String[i:i+n])\n",
    "        \n",
    "    return bi_grams"
   ]
  },
  {
   "cell_type": "code",
   "execution_count": 50,
   "id": "476d9724",
   "metadata": {},
   "outputs": [],
   "source": [
    "query=\"november\"\n",
    "doc=\"december\""
   ]
  },
  {
   "cell_type": "code",
   "execution_count": 51,
   "id": "31963bec",
   "metadata": {},
   "outputs": [
    {
     "data": {
      "text/plain": [
       "['nov', 'ove', 'vem', 'emb', 'mbe', 'ber']"
      ]
     },
     "execution_count": 51,
     "metadata": {},
     "output_type": "execute_result"
    }
   ],
   "source": [
    "generate_n_grams(query,3)"
   ]
  },
  {
   "cell_type": "code",
   "execution_count": 52,
   "id": "6c9fa0e5",
   "metadata": {},
   "outputs": [
    {
     "data": {
      "text/plain": [
       "['dec', 'ece', 'cem', 'emb', 'mbe', 'ber']"
      ]
     },
     "execution_count": 52,
     "metadata": {},
     "output_type": "execute_result"
    }
   ],
   "source": [
    "generate_n_grams(doc,3)"
   ]
  },
  {
   "cell_type": "code",
   "execution_count": null,
   "id": "37e12083",
   "metadata": {},
   "outputs": [],
   "source": []
  },
  {
   "cell_type": "code",
   "execution_count": 53,
   "id": "29ef99ae",
   "metadata": {},
   "outputs": [
    {
     "data": {
      "text/plain": [
       "0.3333333333333333"
      ]
     },
     "execution_count": 53,
     "metadata": {},
     "output_type": "execute_result"
    }
   ],
   "source": [
    "compute_jaccard_coefficient(query,doc)"
   ]
  },
  {
   "cell_type": "code",
   "execution_count": null,
   "id": "e5910d1c",
   "metadata": {},
   "outputs": [],
   "source": []
  }
 ],
 "metadata": {
  "kernelspec": {
   "display_name": "Python 3 (ipykernel)",
   "language": "python",
   "name": "python3"
  },
  "language_info": {
   "codemirror_mode": {
    "name": "ipython",
    "version": 3
   },
   "file_extension": ".py",
   "mimetype": "text/x-python",
   "name": "python",
   "nbconvert_exporter": "python",
   "pygments_lexer": "ipython3",
   "version": "3.10.9"
  }
 },
 "nbformat": 4,
 "nbformat_minor": 5
}
